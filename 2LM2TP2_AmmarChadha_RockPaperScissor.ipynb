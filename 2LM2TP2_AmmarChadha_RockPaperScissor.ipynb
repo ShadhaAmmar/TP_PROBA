{
 "cells": [
  {
   "cell_type": "markdown",
   "metadata": {},
   "source": [
    "Nom:Ammar\n",
    "Prenom:Chadha\n",
    "Groupe:2LM2\n",
    "TP:2"
   ]
  },
  {
   "cell_type": "code",
   "execution_count": 22,
   "metadata": {},
   "outputs": [],
   "source": [
    "import numpy as np\n",
    "import random\n",
    "import pandas as pd\n",
    "import matplotlib.pyplot as plt \n",
    "from ipywidgets import interact, interactive, fixed, interact_manual\n",
    "import ipywidgets as widgets"
   ]
  },
  {
   "cell_type": "code",
   "execution_count": 3,
   "metadata": {},
   "outputs": [],
   "source": [
    "def CHOICE():\n",
    "    return (np.random.choice([\"R\",\"P\",\"S\"],replace=True))"
   ]
  },
  {
   "cell_type": "code",
   "execution_count": 7,
   "metadata": {},
   "outputs": [
    {
     "data": {
      "text/plain": [
       "1"
      ]
     },
     "execution_count": 7,
     "metadata": {},
     "output_type": "execute_result"
    }
   ],
   "source": [
    "def RPS():\n",
    "    J1 = CHOICE()\n",
    "    J2 = CHOICE()\n",
    "    if J1 == J2:\n",
    "        return 0\n",
    "    elif J1 == 'R' and J2 == 'S':\n",
    "        return 1\n",
    "    elif J1 == 'P' and J2 == 'R':\n",
    "        return 1\n",
    "    elif J1 == 'S' and J2 == 'P':\n",
    "        return 1\n",
    "    else:\n",
    "        return -1\n",
    "RPS()"
   ]
  },
  {
   "cell_type": "code",
   "execution_count": 42,
   "metadata": {},
   "outputs": [
    {
     "data": {
      "text/plain": [
       "[320.0, 350.0, 330.0]"
      ]
     },
     "execution_count": 42,
     "metadata": {},
     "output_type": "execute_result"
    }
   ],
   "source": [
    "def Count(l,k):\n",
    "    c1=l.count(0)/k*100\n",
    "    c2=l.count(1)/k*100\n",
    "    c3=l.count(-1)/k*100\n",
    "    liste=[c1,c2,c3]\n",
    "    return liste\n",
    "Count(l,100)"
   ]
  },
  {
   "cell_type": "code",
   "execution_count": 52,
   "metadata": {},
   "outputs": [],
   "source": [
    "def RPS_sim(k=100):\n",
    "    J1 = np.random.choice(np.arange(-1,2), k, replace=True)\n",
    "    unique1, counts1 = np.unique(J1, return_counts=True)\n",
    "    dic1=dict(zip(unique1, counts1))\n",
    "    df=pd.DataFrame(list(dic1.items()),columns=['i','Occurence'])\n",
    "    df.set_index(['i'], inplace=True)\n",
    "    df['Freq']=df['Occurence']/k\n",
    "    df['P({i})']=['{0:.2f}'.format(j) for j in [0.3,0.4,0.3]]\n",
    "    return df"
   ]
  },
  {
   "cell_type": "code",
   "execution_count": 53,
   "metadata": {},
   "outputs": [
    {
     "data": {
      "text/html": [
       "<div>\n",
       "<style scoped>\n",
       "    .dataframe tbody tr th:only-of-type {\n",
       "        vertical-align: middle;\n",
       "    }\n",
       "\n",
       "    .dataframe tbody tr th {\n",
       "        vertical-align: top;\n",
       "    }\n",
       "\n",
       "    .dataframe thead th {\n",
       "        text-align: right;\n",
       "    }\n",
       "</style>\n",
       "<table border=\"1\" class=\"dataframe\">\n",
       "  <thead>\n",
       "    <tr style=\"text-align: right;\">\n",
       "      <th></th>\n",
       "      <th>Occurence</th>\n",
       "      <th>Freq</th>\n",
       "      <th>P({i})</th>\n",
       "    </tr>\n",
       "    <tr>\n",
       "      <th>i</th>\n",
       "      <th></th>\n",
       "      <th></th>\n",
       "      <th></th>\n",
       "    </tr>\n",
       "  </thead>\n",
       "  <tbody>\n",
       "    <tr>\n",
       "      <th>-1</th>\n",
       "      <td>329</td>\n",
       "      <td>0.329</td>\n",
       "      <td>0.30</td>\n",
       "    </tr>\n",
       "    <tr>\n",
       "      <th>0</th>\n",
       "      <td>345</td>\n",
       "      <td>0.345</td>\n",
       "      <td>0.40</td>\n",
       "    </tr>\n",
       "    <tr>\n",
       "      <th>1</th>\n",
       "      <td>326</td>\n",
       "      <td>0.326</td>\n",
       "      <td>0.30</td>\n",
       "    </tr>\n",
       "  </tbody>\n",
       "</table>\n",
       "</div>"
      ],
      "text/plain": [
       "    Occurence   Freq P({i})\n",
       "i                          \n",
       "-1        329  0.329   0.30\n",
       " 0        345  0.345   0.40\n",
       " 1        326  0.326   0.30"
      ]
     },
     "execution_count": 53,
     "metadata": {},
     "output_type": "execute_result"
    }
   ],
   "source": [
    "RPS_sim(1000)"
   ]
  },
  {
   "cell_type": "code",
   "execution_count": 54,
   "metadata": {},
   "outputs": [
    {
     "data": {
      "application/vnd.jupyter.widget-view+json": {
       "model_id": "40273383f5d7454794ce4b20e96e15ab",
       "version_major": 2,
       "version_minor": 0
      },
      "text/plain": [
       "interactive(children=(IntSlider(value=10, description='k', max=1000, min=3, step=5), Output()), _dom_classes=(…"
      ]
     },
     "metadata": {},
     "output_type": "display_data"
    }
   ],
   "source": [
    "interact(RPS_sim,k=widgets.IntSlider(min=3, max=1000, step=5, value=10));"
   ]
  },
  {
   "cell_type": "code",
   "execution_count": 19,
   "metadata": {},
   "outputs": [
    {
     "data": {
      "text/plain": [
       "([<matplotlib.patches.Wedge at 0x1df02638130>,\n",
       "  <matplotlib.patches.Wedge at 0x1df02638850>,\n",
       "  <matplotlib.patches.Wedge at 0x1df02638f70>],\n",
       " [Text(0.5894094953465411, 0.928760704807937, 'Gagner'),\n",
       "  Text(-1.0994572142025187, 0.03455190498419851, 'Perdre'),\n",
       "  Text(0.5599455183205809, -0.9468162527717277, 'Match Null')],\n",
       " [Text(0.3214960883708406, 0.5065967480770565, '32%'),\n",
       "  Text(-0.5997039350195557, 0.018846493627744636, '35%'),\n",
       "  Text(0.30542482817486233, -0.5164452287845787, '33%')])"
      ]
     },
     "execution_count": 19,
     "metadata": {},
     "output_type": "execute_result"
    },
    {
     "data": {
      "image/png": "[encoded data removed]",
      "text/plain": [
       "<Figure size 640x480 with 1 Axes>"
      ]
     },
     "metadata": {},
     "output_type": "display_data"
    }
   ],
   "source": [
    "l=[RPS() for i in range(1000)]\n",
    "c=(Count(l,1000))\n",
    "lbl=[\"Gagner\",\"Perdre\",\"Match Null\"]\n",
    "plt.pie(c,labels=lbl,autopct='%.0f%%')"
   ]
  },
  {
   "cell_type": "code",
   "execution_count": null,
   "metadata": {},
   "outputs": [],
   "source": []
  }
 ],
 "metadata": {
  "kernelspec": {
   "display_name": "Python 3.9.13 ('base')",
   "language": "python",
   "name": "python3"
  },
  "language_info": {
   "codemirror_mode": {
    "name": "ipython",
    "version": 3
   },
   "file_extension": ".py",
   "mimetype": "text/x-python",
   "name": "python",
   "nbconvert_exporter": "python",
   "pygments_lexer": "ipython3",
   "version": "3.9.13"
  },
  "orig_nbformat": 4,
  "vscode": {
   "interpreter": {
    "hash": "912f24a63204a62ae6f36d95d79b9e43db83514d3f9b2b7010f4e602c1266e96"
   }
  }
 },
 "nbformat": 4,
 "nbformat_minor": 2
}
